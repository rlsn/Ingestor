{
 "cells": [
  {
   "cell_type": "code",
   "execution_count": 1,
   "id": "616ce8c3-309d-4a0a-8e4f-408f1e1c77fb",
   "metadata": {},
   "outputs": [],
   "source": [
    "import pygestor"
   ]
  },
  {
   "cell_type": "code",
   "execution_count": 2,
   "id": "dda94648-697b-4751-abf9-ae6879fd07ed",
   "metadata": {},
   "outputs": [
    {
     "name": "stdout",
     "output_type": "stream",
     "text": [
      "      dataset name       |        modality         |         description          \n",
      "wikimedia/wikipedia      |          text           |Wikipedia dataset containing cleaned articles of all languages.\n",
      "wikimedia/wit_base       |       text,image        |Wikimedia's version of the Wikipedia-based Image Text (WIT) Dataset, a large multimodal multilingual dataset.\n"
     ]
    }
   ],
   "source": [
    "# Show available datasets\n",
    "dataset_names = pygestor.list_datasets(display = True)"
   ]
  },
  {
   "cell_type": "code",
   "execution_count": 3,
   "id": "d18c561f-dc58-4c40-b68d-7255b6e35bea",
   "metadata": {},
   "outputs": [
    {
     "name": "stdout",
     "output_type": "stream",
     "text": [
      "[INFO] [1/1] downloading wikimedia/wikipedia\\20231101.ch/train-00000-of-00001.parquet\n"
     ]
    },
    {
     "data": {
      "application/vnd.jupyter.widget-view+json": {
       "model_id": "03a5f80e57134b2a9c7c33d68dd10e09",
       "version_major": 2,
       "version_minor": 0
      },
      "text/plain": [
       "train-00000-of-00001.parquet:   0%|          | 0.00/89.3k [00:00<?, ?B/s]"
      ]
     },
     "metadata": {},
     "output_type": "display_data"
    },
    {
     "name": "stdout",
     "output_type": "stream",
     "text": [
      "[INFO] downloading complete.\n"
     ]
    },
    {
     "data": {
      "text/html": [
       "<div>\n",
       "<style scoped>\n",
       "    .dataframe tbody tr th:only-of-type {\n",
       "        vertical-align: middle;\n",
       "    }\n",
       "\n",
       "    .dataframe tbody tr th {\n",
       "        vertical-align: top;\n",
       "    }\n",
       "\n",
       "    .dataframe thead th {\n",
       "        text-align: right;\n",
       "    }\n",
       "</style>\n",
       "<table border=\"1\" class=\"dataframe\">\n",
       "  <thead>\n",
       "    <tr style=\"text-align: right;\">\n",
       "      <th></th>\n",
       "      <th>id</th>\n",
       "      <th>url</th>\n",
       "      <th>title</th>\n",
       "      <th>text</th>\n",
       "    </tr>\n",
       "  </thead>\n",
       "  <tbody>\n",
       "    <tr>\n",
       "      <th>0</th>\n",
       "      <td>937</td>\n",
       "      <td>https://ch.wikipedia.org/wiki/Gu%C3%A5han</td>\n",
       "      <td>Guåhan</td>\n",
       "      <td>Gaige islan Guåhan (Engles: Guam; Españót: Gua...</td>\n",
       "    </tr>\n",
       "    <tr>\n",
       "      <th>1</th>\n",
       "      <td>1492</td>\n",
       "      <td>https://ch.wikipedia.org/wiki/Kl%C3%A5%27an</td>\n",
       "      <td>Klå'an</td>\n",
       "      <td>I kuåttro na grupon klå'an: i klå'an hu, i klå...</td>\n",
       "    </tr>\n",
       "    <tr>\n",
       "      <th>2</th>\n",
       "      <td>2051</td>\n",
       "      <td>https://ch.wikipedia.org/wiki/Fetnando%20Magal...</td>\n",
       "      <td>Fetnando Magallanes</td>\n",
       "      <td>Fetnando Magallanes (gi fino' Españót Fernando...</td>\n",
       "    </tr>\n",
       "    <tr>\n",
       "      <th>3</th>\n",
       "      <td>2052</td>\n",
       "      <td>https://ch.wikipedia.org/wiki/Hag%C3%A5t%C3%B1a</td>\n",
       "      <td>Hagåtña</td>\n",
       "      <td>Hagåtña , eståba nå'an-ña Agana yan gi fino' E...</td>\n",
       "    </tr>\n",
       "    <tr>\n",
       "      <th>4</th>\n",
       "      <td>2053</td>\n",
       "      <td>https://ch.wikipedia.org/wiki/Fanhaluman</td>\n",
       "      <td>Fanhaluman</td>\n",
       "      <td>Wikipedia</td>\n",
       "    </tr>\n",
       "  </tbody>\n",
       "</table>\n",
       "</div>"
      ],
      "text/plain": [
       "     id                                                url  \\\n",
       "0   937          https://ch.wikipedia.org/wiki/Gu%C3%A5han   \n",
       "1  1492        https://ch.wikipedia.org/wiki/Kl%C3%A5%27an   \n",
       "2  2051  https://ch.wikipedia.org/wiki/Fetnando%20Magal...   \n",
       "3  2052    https://ch.wikipedia.org/wiki/Hag%C3%A5t%C3%B1a   \n",
       "4  2053           https://ch.wikipedia.org/wiki/Fanhaluman   \n",
       "\n",
       "                 title                                               text  \n",
       "0               Guåhan  Gaige islan Guåhan (Engles: Guam; Españót: Gua...  \n",
       "1               Klå'an  I kuåttro na grupon klå'an: i klå'an hu, i klå...  \n",
       "2  Fetnando Magallanes  Fetnando Magallanes (gi fino' Españót Fernando...  \n",
       "3              Hagåtña  Hagåtña , eståba nå'an-ña Agana yan gi fino' E...  \n",
       "4           Fanhaluman                                          Wikipedia  "
      ]
     },
     "execution_count": 3,
     "metadata": {},
     "output_type": "execute_result"
    }
   ],
   "source": [
    "# load the dataset, automatically download necessary files if the they are not already there\n",
    "ds = pygestor.load_dataset(\"wikimedia/wikipedia\", \"20231101.ch\", download_if_missing=True)\n",
    "ds.head(5)"
   ]
  },
  {
   "cell_type": "code",
   "execution_count": 4,
   "id": "49073990-1a32-4e76-ac17-efd6678baa28",
   "metadata": {},
   "outputs": [
    {
     "name": "stdout",
     "output_type": "stream",
     "text": [
      "[INFO] [1/1] downloading wikimedia/wikipedia\\20231101.ady/train-00000-of-00001.parquet\n"
     ]
    },
    {
     "data": {
      "application/vnd.jupyter.widget-view+json": {
       "model_id": "f26c0aca22e740389dca5460c8ed2e16",
       "version_major": 2,
       "version_minor": 0
      },
      "text/plain": [
       "train-00000-of-00001.parquet:   0%|          | 0.00/347k [00:00<?, ?B/s]"
      ]
     },
     "metadata": {},
     "output_type": "display_data"
    },
    {
     "name": "stdout",
     "output_type": "stream",
     "text": [
      "[INFO] downloading complete.\n",
      "[INFO] downloading complete.\n"
     ]
    },
    {
     "data": {
      "text/html": [
       "<div>\n",
       "<style scoped>\n",
       "    .dataframe tbody tr th:only-of-type {\n",
       "        vertical-align: middle;\n",
       "    }\n",
       "\n",
       "    .dataframe tbody tr th {\n",
       "        vertical-align: top;\n",
       "    }\n",
       "\n",
       "    .dataframe thead th {\n",
       "        text-align: right;\n",
       "    }\n",
       "</style>\n",
       "<table border=\"1\" class=\"dataframe\">\n",
       "  <thead>\n",
       "    <tr style=\"text-align: right;\">\n",
       "      <th></th>\n",
       "      <th>id</th>\n",
       "      <th>url</th>\n",
       "      <th>title</th>\n",
       "      <th>text</th>\n",
       "    </tr>\n",
       "  </thead>\n",
       "  <tbody>\n",
       "    <tr>\n",
       "      <th>0</th>\n",
       "      <td>44</td>\n",
       "      <td>https://ady.wikipedia.org/wiki/NBA</td>\n",
       "      <td>NBA</td>\n",
       "      <td>Лига NBA-ер лига нахьышъхь мэтэ1эгуау ет Амери...</td>\n",
       "    </tr>\n",
       "    <tr>\n",
       "      <th>1</th>\n",
       "      <td>46</td>\n",
       "      <td>https://ady.wikipedia.org/wiki/%D0%90%D0%B4%D1...</td>\n",
       "      <td>Адыгэ джэгу</td>\n",
       "      <td>Адыгэ джэгу - нахь мэхьэнэ ин зи1эмэ ащыщэу ад...</td>\n",
       "    </tr>\n",
       "    <tr>\n",
       "      <th>2</th>\n",
       "      <td>48</td>\n",
       "      <td>https://ady.wikipedia.org/wiki/%D0%9D%D0%B5%D0...</td>\n",
       "      <td>Непэ</td>\n",
       "      <td>Непэ – непэ тхылъым седжэщт.\\n\\n!Main category</td>\n",
       "    </tr>\n",
       "    <tr>\n",
       "      <th>3</th>\n",
       "      <td>50</td>\n",
       "      <td>https://ady.wikipedia.org/wiki/%D0%90%D0%B1%D0...</td>\n",
       "      <td>Абазэ Къамбот</td>\n",
       "      <td>Абазэ Къамбот (1837 гъ. — 1900) — джэгуакӀо, о...</td>\n",
       "    </tr>\n",
       "    <tr>\n",
       "      <th>4</th>\n",
       "      <td>51</td>\n",
       "      <td>https://ady.wikipedia.org/wiki/%D0%90%D0%B1%D0...</td>\n",
       "      <td>Абадзэбзэ</td>\n",
       "      <td>Абадзэбзэ (абадзэбзэкIэ абаза бызшва) — абадзэ...</td>\n",
       "    </tr>\n",
       "  </tbody>\n",
       "</table>\n",
       "</div>"
      ],
      "text/plain": [
       "   id                                                url          title  \\\n",
       "0  44                 https://ady.wikipedia.org/wiki/NBA            NBA   \n",
       "1  46  https://ady.wikipedia.org/wiki/%D0%90%D0%B4%D1...    Адыгэ джэгу   \n",
       "2  48  https://ady.wikipedia.org/wiki/%D0%9D%D0%B5%D0...           Непэ   \n",
       "3  50  https://ady.wikipedia.org/wiki/%D0%90%D0%B1%D0...  Абазэ Къамбот   \n",
       "4  51  https://ady.wikipedia.org/wiki/%D0%90%D0%B1%D0...      Абадзэбзэ   \n",
       "\n",
       "                                                text  \n",
       "0  Лига NBA-ер лига нахьышъхь мэтэ1эгуау ет Амери...  \n",
       "1  Адыгэ джэгу - нахь мэхьэнэ ин зи1эмэ ащыщэу ад...  \n",
       "2     Непэ – непэ тхылъым седжэщт.\\n\\n!Main category  \n",
       "3  Абазэ Къамбот (1837 гъ. — 1900) — джэгуакӀо, о...  \n",
       "4  Абадзэбзэ (абадзэбзэкIэ абаза бызшва) — абадзэ...  "
      ]
     },
     "execution_count": 4,
     "metadata": {},
     "output_type": "execute_result"
    }
   ],
   "source": [
    "# The above process can be broken separate stages as well.\n",
    "# Download the subset \"20231101.ady\" from \"wikimedia/wikipedia\"\n",
    "pygestor.download(\"wikimedia/wikipedia\", \"20231101.ady\", force_redownload=True)\n",
    "# Load the subset into memory\n",
    "ds = pygestor.load_dataset(\"wikimedia/wikipedia\", \"20231101.ady\", download_if_missing=False)\n",
    "ds.head(5)"
   ]
  },
  {
   "cell_type": "code",
   "execution_count": 5,
   "id": "c3112171-daec-4e2f-938e-14b7f1286b7e",
   "metadata": {},
   "outputs": [
    {
     "name": "stdout",
     "output_type": "stream",
     "text": [
      "dataset name: wikimedia/wikipedia\n",
      "         subsets         |  downloaded partitions  | size(MB) |path\n",
      "20231101.ady             |           1/1           |0.35      |wikimedia/wikipedia\\20231101.ady\n",
      "20231101.ch              |           1/1           |0.09      |wikimedia/wikipedia\\20231101.ch\n",
      "20231101.ab              |           0/1           |1.24      |\n",
      "20231101.ace             |           0/1           |1.57      |\n",
      "20231101.af              |           0/1           |124.49    |\n",
      "20231101.als             |           0/1           |49.45     |\n",
      "20231101.alt             |           0/1           |2.91      |\n",
      "20231101.am              |           0/1           |10.72     |\n",
      "20231101.ami             |           0/1           |2.26      |\n",
      "20231101.an              |           0/1           |29.57     |\n",
      "20231101.ang             |           0/1           |1.79      |\n",
      "20231101.anp             |           0/1           |3.36      |\n",
      "20231101.ar              |           0/7           |1323.30   |\n",
      "20231101.arc             |           0/1           |0.37      |\n",
      "20231101.ary             |           0/1           |4.67      |\n",
      "20231101.arz             |           0/3           |317.23    |\n",
      "20231101.as              |           0/1           |34.58     |\n",
      "20231101.ast             |           0/1           |271.20    |\n",
      "20231101.atj             |           0/1           |0.51      |\n",
      "20231101.av              |           0/1           |2.57      |\n",
      "20231101.avk             |           0/1           |7.98      |\n",
      "20231101.awa             |           0/1           |1.27      |\n",
      "20231101.ay              |           0/1           |1.76      |\n",
      "20231101.az              |           0/1           |230.06    |\n",
      "20231101.azb             |           0/1           |46.74     |\n",
      "20231101.ba              |           0/1           |122.60    |\n",
      "20231101.ban             |           0/1           |6.72      |\n",
      "20231101.bar             |           0/1           |21.80     |\n",
      "20231101.bat-smg         |           0/1           |3.35      |\n",
      "20231101.bcl             |           0/1           |11.37     |\n",
      "20231101.be              |           0/2           |284.92    |\n",
      "20231101.be-x-old        |           0/1           |114.32    |\n",
      "20231101.bg              |           0/3           |512.34    |\n",
      "20231101.bh              |           0/1           |5.88      |\n",
      "20231101.bi              |           0/1           |0.20      |\n",
      "20231101.bjn             |           0/1           |3.32      |\n",
      "20231101.blk             |           0/1           |8.03      |\n",
      "20231101.bm              |           0/1           |0.34      |\n",
      "20231101.bn              |           0/2           |343.89    |\n",
      "20231101.bo              |           0/1           |38.85     |\n",
      "20231101.bpy             |           0/1           |6.57      |\n",
      "20231101.br              |           0/1           |49.77     |\n",
      "20231101.bs              |           0/1           |107.86    |\n",
      "20231101.bug             |           0/1           |0.82      |\n",
      "20231101.bxr             |           0/1           |3.08      |\n",
      "20231101.ca              |           0/4           |1116.80   |\n",
      "20231101.cbk-zam         |           0/1           |0.83      |\n",
      "20231101.cdo             |           0/1           |1.98      |\n",
      "20231101.ce              |           0/2           |88.39     |\n",
      "20231101.ceb             |          0/10           |828.09    |\n",
      "20231101.chr             |           0/1           |0.34      |\n",
      "20231101.chy             |           0/1           |0.08      |\n",
      "20231101.ckb             |           0/1           |42.96     |\n",
      "20231101.co              |           0/1           |5.79      |\n",
      "20231101.cr              |           0/1           |0.04      |\n",
      "20231101.crh             |           0/1           |3.65      |\n",
      "20231101.cs              |           0/4           |976.48    |\n",
      "20231101.csb             |           0/1           |2.06      |\n",
      "20231101.cu              |           0/1           |0.40      |\n",
      "20231101.cv              |           0/1           |29.64     |\n",
      "20231101.cy              |           0/1           |112.26    |\n",
      "20231101.da              |           0/2           |327.69    |\n",
      "20231101.dag             |           0/1           |9.03      |\n",
      "20231101.de              |          0/20           |5771.32   |\n",
      "20231101.din             |           0/1           |0.34      |\n",
      "20231101.diq             |           0/1           |7.62      |\n",
      "20231101.dsb             |           0/1           |1.93      |\n",
      "20231101.dty             |           0/1           |2.52      |\n",
      "20231101.dv              |           0/1           |5.28      |\n",
      "20231101.dz              |           0/1           |2.58      |\n",
      "20231101.ee              |           0/1           |0.49      |\n",
      "20231101.el              |           0/3           |637.37    |\n",
      "20231101.eml             |           0/1           |1.69      |\n",
      "20231101.en              |          0/41           |11630.93  |\n",
      "20231101.eo              |           0/2           |297.74    |\n",
      "20231101.es              |          0/13           |3493.60   |\n",
      "20231101.et              |           0/1           |265.44    |\n",
      "20231101.eu              |           0/2           |270.36    |\n",
      "20231101.ext             |           0/1           |2.76      |\n",
      "20231101.fa              |           0/4           |759.37    |\n",
      "20231101.fat             |           0/1           |1.12      |\n",
      "20231101.ff              |           0/1           |1.09      |\n",
      "20231101.fi              |           0/3           |680.51    |\n",
      "20231101.fiu-vro         |           0/1           |2.43      |\n",
      "20231101.fj              |           0/1           |0.33      |\n",
      "20231101.fo              |           0/1           |8.86      |\n",
      "20231101.fon             |           0/1           |0.32      |\n",
      "20231101.fr              |          0/17           |4614.49   |\n",
      "20231101.frp             |           0/1           |1.91      |\n",
      "20231101.frr             |           0/1           |5.32      |\n",
      "20231101.fur             |           0/1           |2.42      |\n",
      "20231101.fy              |           0/1           |76.00     |\n",
      "20231101.ga              |           0/1           |34.14     |\n",
      "20231101.gag             |           0/1           |1.33      |\n",
      "20231101.gan             |           0/1           |1.51      |\n",
      "20231101.gcr             |           0/1           |1.35      |\n",
      "20231101.gd              |           0/1           |7.19      |\n",
      "20231101.gl              |           0/1           |291.10    |\n",
      "20231101.glk             |           0/1           |2.38      |\n",
      "20231101.gn              |           0/1           |3.81      |\n",
      "20231101.gom             |           0/1           |11.31     |\n",
      "20231101.gor             |           0/1           |2.10      |\n",
      "20231101.got             |           0/1           |0.64      |\n",
      "20231101.gpe             |           0/1           |1.14      |\n",
      "20231101.gu              |           0/1           |39.55     |\n",
      "20231101.guc             |           0/1           |0.58      |\n",
      "20231101.gur             |           0/1           |1.07      |\n",
      "20231101.guw             |           0/1           |1.04      |\n",
      "20231101.gv              |           0/1           |3.35      |\n",
      "20231101.ha              |           0/1           |43.13     |\n",
      "20231101.hak             |           0/1           |1.88      |\n",
      "20231101.haw             |           0/1           |0.70      |\n",
      "20231101.he              |           0/4           |979.18    |\n",
      "20231101.hi              |           0/2           |237.83    |\n",
      "20231101.hif             |           0/1           |2.72      |\n",
      "20231101.hr              |           0/1           |275.25    |\n",
      "20231101.hsb             |           0/1           |7.44      |\n",
      "20231101.ht              |           0/1           |21.99     |\n",
      "20231101.hu              |           0/4           |904.86    |\n",
      "20231101.hy              |           0/3           |490.12    |\n",
      "20231101.hyw             |           0/1           |27.45     |\n",
      "20231101.ia              |           0/1           |8.24      |\n",
      "20231101.id              |           0/3           |583.80    |\n",
      "20231101.ie              |           0/1           |3.02      |\n",
      "20231101.ig              |           0/1           |34.66     |\n",
      "20231101.ik              |           0/1           |0.12      |\n",
      "20231101.ilo             |           0/1           |7.35      |\n",
      "20231101.inh             |           0/1           |1.28      |\n",
      "20231101.io              |           0/1           |17.11     |\n",
      "20231101.is              |           0/1           |52.29     |\n",
      "20231101.it              |          0/10           |2931.27   |\n",
      "20231101.iu              |           0/1           |0.14      |\n",
      "20231101.ja              |          0/15           |3942.00   |\n",
      "20231101.jam             |           0/1           |0.70      |\n",
      "20231101.jbo             |           0/1           |0.89      |\n",
      "20231101.jv              |           0/1           |36.85     |\n",
      "20231101.ka              |           0/2           |239.99    |\n",
      "20231101.kaa             |           0/1           |2.91      |\n",
      "20231101.kab             |           0/1           |2.58      |\n",
      "20231101.kbd             |           0/1           |1.30      |\n",
      "20231101.kbp             |           0/1           |1.81      |\n",
      "20231101.kcg             |           0/1           |0.51      |\n",
      "20231101.kg              |           0/1           |0.21      |\n",
      "20231101.ki              |           0/1           |0.43      |\n",
      "20231101.kk              |           0/1           |180.75    |\n",
      "20231101.kl              |           0/1           |0.19      |\n",
      "20231101.km              |           0/1           |35.57     |\n",
      "20231101.kn              |           0/1           |147.16    |\n",
      "20231101.ko              |           0/3           |782.68    |\n",
      "20231101.koi             |           0/1           |1.89      |\n",
      "20231101.krc             |           0/1           |2.02      |\n",
      "20231101.ks              |           0/1           |1.09      |\n",
      "20231101.ksh             |           0/1           |2.01      |\n",
      "20231101.ku              |           0/1           |22.94     |\n",
      "20231101.kv              |           0/1           |3.69      |\n",
      "20231101.kw              |           0/1           |2.71      |\n",
      "20231101.ky              |           0/1           |63.95     |\n",
      "20231101.la              |           0/1           |76.59     |\n",
      "20231101.lad             |           0/1           |2.75      |\n",
      "20231101.lb              |           0/1           |50.52     |\n",
      "20231101.lbe             |           0/1           |0.30      |\n",
      "20231101.lez             |           0/1           |3.86      |\n",
      "20231101.lfn             |           0/1           |5.21      |\n",
      "20231101.lg              |           0/1           |3.71      |\n",
      "20231101.li              |           0/1           |17.73     |\n",
      "20231101.lij             |           0/1           |6.26      |\n",
      "20231101.lld             |           0/1           |13.87     |\n",
      "20231101.lmo             |           0/1           |19.14     |\n",
      "20231101.ln              |           0/1           |1.12      |\n",
      "20231101.lo              |           0/1           |5.65      |\n",
      "20231101.lt              |           0/1           |194.87    |\n",
      "20231101.ltg             |           0/1           |0.53      |\n",
      "20231101.lv              |           0/1           |129.74    |\n",
      "20231101.mad             |           0/1           |0.91      |\n",
      "20231101.mai             |           0/1           |6.18      |\n",
      "20231101.map-bms         |           0/1           |2.38      |\n",
      "20231101.mdf             |           0/1           |1.73      |\n",
      "20231101.mg              |           0/1           |22.12     |\n",
      "20231101.mhr             |           0/1           |6.90      |\n",
      "20231101.mi              |           0/1           |1.04      |\n",
      "20231101.min             |           0/1           |25.69     |\n",
      "20231101.mk              |           0/2           |271.27    |\n",
      "20231101.ml              |           0/1           |183.07    |\n",
      "20231101.mn              |           0/1           |41.52     |\n",
      "20231101.mni             |           0/1           |2.21      |\n",
      "20231101.mnw             |           0/1           |13.77     |\n",
      "20231101.mr              |           0/1           |81.99     |\n",
      "20231101.mrj             |           0/1           |3.28      |\n",
      "20231101.ms              |           0/1           |210.15    |\n",
      "20231101.mt              |           0/1           |18.69     |\n",
      "20231101.mwl             |           0/1           |11.52     |\n",
      "20231101.my              |           0/1           |85.50     |\n",
      "20231101.myv             |           0/1           |4.60      |\n",
      "20231101.mzn             |           0/1           |5.42      |\n",
      "20231101.nah             |           0/1           |1.19      |\n",
      "20231101.nap             |           0/1           |3.19      |\n",
      "20231101.nds             |           0/1           |48.11     |\n",
      "20231101.nds-nl          |           0/1           |8.35      |\n",
      "20231101.ne              |           0/1           |37.55     |\n",
      "20231101.new             |           0/1           |20.52     |\n",
      "20231101.nia             |           0/1           |1.09      |\n",
      "20231101.nl              |           0/6           |1436.84   |\n",
      "20231101.nn              |           0/1           |134.75    |\n",
      "20231101.no              |           0/3           |590.97    |\n",
      "20231101.nov             |           0/1           |0.49      |\n",
      "20231101.nqo             |           0/1           |3.51      |\n",
      "20231101.nrm             |           0/1           |1.51      |\n",
      "20231101.nso             |           0/1           |0.94      |\n",
      "20231101.nv              |           0/1           |3.30      |\n",
      "20231101.ny              |           0/1           |0.94      |\n",
      "20231101.oc              |           0/1           |64.04     |\n",
      "20231101.olo             |           0/1           |1.72      |\n",
      "20231101.om              |           0/1           |1.98      |\n",
      "20231101.or              |           0/1           |26.71     |\n",
      "20231101.os              |           0/1           |5.57      |\n",
      "20231101.pa              |           0/1           |81.45     |\n",
      "20231101.pag             |           0/1           |0.46      |\n",
      "20231101.pam             |           0/1           |4.28      |\n",
      "20231101.pap             |           0/1           |2.44      |\n",
      "20231101.pcd             |           0/1           |3.15      |\n",
      "20231101.pcm             |           0/1           |1.16      |\n",
      "20231101.pdc             |           0/1           |0.70      |\n",
      "20231101.pfl             |           0/1           |1.97      |\n",
      "20231101.pi              |           0/1           |0.20      |\n",
      "20231101.pih             |           0/1           |0.18      |\n",
      "20231101.pl              |           0/6           |1765.06   |\n",
      "20231101.pms             |           0/1           |12.01     |\n",
      "20231101.pnb             |           0/1           |133.27    |\n",
      "20231101.pnt             |           0/1           |0.28      |\n",
      "20231101.ps              |           0/1           |53.31     |\n",
      "20231101.pt              |           0/6           |1579.64   |\n",
      "20231101.pwn             |           0/1           |0.44      |\n",
      "20231101.qu              |           0/1           |7.69      |\n",
      "20231101.rm              |           0/1           |10.48     |\n",
      "20231101.rmy             |           0/1           |0.36      |\n",
      "20231101.rn              |           0/1           |0.30      |\n",
      "20231101.ro              |           0/2           |466.94    |\n",
      "20231101.roa-rup         |           0/1           |0.95      |\n",
      "20231101.roa-tara        |           0/1           |4.00      |\n",
      "20231101.ru              |          0/21           |4876.85   |\n",
      "20231101.rue             |           0/1           |6.35      |\n",
      "20231101.rw              |           0/1           |6.62      |\n",
      "20231101.sa              |           0/1           |23.85     |\n",
      "20231101.sah             |           0/1           |21.68     |\n",
      "20231101.sat             |           0/1           |15.43     |\n",
      "20231101.sc              |           0/1           |7.71      |\n",
      "20231101.scn             |           0/1           |10.22     |\n",
      "20231101.sco             |           0/1           |24.29     |\n",
      "20231101.sd              |           0/1           |17.59     |\n",
      "20231101.se              |           0/1           |1.82      |\n",
      "20231101.sg              |           0/1           |0.07      |\n",
      "20231101.sh              |           0/2           |266.38    |\n",
      "20231101.shi             |           0/1           |1.36      |\n",
      "20231101.shn             |           0/1           |8.16      |\n",
      "20231101.si              |           0/1           |54.23     |\n",
      "20231101.simple          |           0/1           |156.89    |\n",
      "20231101.sk              |           0/1           |239.51    |\n",
      "20231101.skr             |           0/1           |9.98      |\n",
      "20231101.sl              |           0/1           |267.49    |\n",
      "20231101.sm              |           0/1           |0.49      |\n",
      "20231101.smn             |           0/1           |2.81      |\n",
      "20231101.sn              |           0/1           |4.98      |\n",
      "20231101.so              |           0/1           |7.94      |\n",
      "20231101.sq              |           0/1           |116.95    |\n",
      "20231101.sr              |           0/4           |697.39    |\n",
      "20231101.srn             |           0/1           |0.22      |\n",
      "20231101.ss              |           0/1           |0.60      |\n",
      "20231101.st              |           0/1           |0.53      |\n",
      "20231101.stq             |           0/1           |2.88      |\n",
      "20231101.su              |           0/1           |19.81     |\n",
      "20231101.sv              |           0/5           |974.26    |\n",
      "20231101.sw              |           0/1           |35.94     |\n",
      "20231101.szl             |           0/1           |7.35      |\n",
      "20231101.szy             |           0/1           |6.19      |\n",
      "20231101.ta              |           0/2           |265.65    |\n",
      "20231101.tay             |           0/1           |1.23      |\n",
      "20231101.tcy             |           0/1           |4.61      |\n",
      "20231101.te              |           0/2           |215.10    |\n",
      "20231101.tet             |           0/1           |0.74      |\n",
      "20231101.tg              |           0/1           |49.83     |\n",
      "20231101.th              |           0/3           |371.92    |\n",
      "20231101.ti              |           0/1           |0.36      |\n",
      "20231101.tk              |           0/1           |7.38      |\n",
      "20231101.tl              |           0/1           |45.80     |\n",
      "20231101.tly             |           0/1           |1.07      |\n",
      "20231101.tn              |           0/1           |1.71      |\n",
      "20231101.to              |           0/1           |0.52      |\n",
      "20231101.tpi             |           0/1           |0.24      |\n",
      "20231101.tr              |           0/2           |552.92    |\n",
      "20231101.trv             |           0/1           |2.71      |\n",
      "20231101.ts              |           0/1           |0.46      |\n",
      "20231101.tt              |           0/2           |129.14    |\n",
      "20231101.tum             |           0/1           |5.46      |\n",
      "20231101.tw              |           0/1           |4.12      |\n",
      "20231101.ty              |           0/1           |0.15      |\n",
      "20231101.tyv             |           0/1           |6.53      |\n",
      "20231101.udm             |           0/1           |2.98      |\n",
      "20231101.ug              |           0/1           |17.74     |\n",
      "20231101.uk              |          0/10           |2276.77   |\n",
      "20231101.ur              |           0/1           |167.63    |\n",
      "20231101.uz              |           0/1           |210.26    |\n",
      "20231101.ve              |           0/1           |0.16      |\n",
      "20231101.vec             |           0/1           |16.18     |\n",
      "20231101.vep             |           0/1           |6.42      |\n",
      "20231101.vi              |           0/4           |729.56    |\n",
      "20231101.vls             |           0/1           |6.99      |\n",
      "20231101.vo              |           0/1           |6.58      |\n",
      "20231101.wa              |           0/1           |7.33      |\n",
      "20231101.war             |           0/1           |104.59    |\n",
      "20231101.wo              |           0/1           |2.09      |\n",
      "20231101.wuu             |           0/1           |15.99     |\n",
      "20231101.xal             |           0/1           |0.51      |\n",
      "20231101.xh              |           0/1           |2.51      |\n",
      "20231101.xmf             |           0/1           |12.95     |\n",
      "20231101.yi              |           0/1           |16.22     |\n",
      "20231101.yo              |           0/1           |8.86      |\n",
      "20231101.za              |           0/1           |0.67      |\n",
      "20231101.zea             |           0/1           |2.62      |\n",
      "20231101.zh              |           0/6           |1721.15   |\n",
      "20231101.zh-classical    |           0/1           |10.10     |\n",
      "20231101.zh-min-nan      |           0/1           |37.12     |\n",
      "20231101.zh-yue          |           0/1           |64.95     |\n",
      "20231101.zu              |           0/1           |3.79      |\n"
     ]
    }
   ],
   "source": [
    "# view the subset info of a dataset\n",
    "subsets = pygestor.list_subsets(\"wikimedia/wikipedia\")"
   ]
  },
  {
   "cell_type": "code",
   "execution_count": 6,
   "id": "97b927d8-a59f-4b8b-8838-19852fe7e621",
   "metadata": {},
   "outputs": [
    {
     "name": "stdout",
     "output_type": "stream",
     "text": [
      "[INFO] [1/2] downloading wikimedia/wikipedia\\20231101.en/train-00000-of-00041.parquet\n"
     ]
    },
    {
     "data": {
      "application/vnd.jupyter.widget-view+json": {
       "model_id": "537759cc7df847ab995f68172fbba824",
       "version_major": 2,
       "version_minor": 0
      },
      "text/plain": [
       "train-00000-of-00041.parquet:   0%|          | 0.00/420M [00:00<?, ?B/s]"
      ]
     },
     "metadata": {},
     "output_type": "display_data"
    },
    {
     "name": "stdout",
     "output_type": "stream",
     "text": [
      "[INFO] [2/2] downloading wikimedia/wikipedia\\20231101.en/train-00001-of-00041.parquet\n"
     ]
    },
    {
     "data": {
      "application/vnd.jupyter.widget-view+json": {
       "model_id": "cd51b261acf74a5e871916b9e8ea7b2d",
       "version_major": 2,
       "version_minor": 0
      },
      "text/plain": [
       "train-00001-of-00041.parquet:   0%|          | 0.00/351M [00:00<?, ?B/s]"
      ]
     },
     "metadata": {},
     "output_type": "display_data"
    },
    {
     "name": "stdout",
     "output_type": "stream",
     "text": [
      "[INFO] downloading complete.\n"
     ]
    }
   ],
   "source": [
    "# Download specific partitions only\n",
    "partitions = pygestor.list_partitions(\"wikimedia/wikipedia\", \"20231101.en\", display=False)[:2]\n",
    "pygestor.download(\"wikimedia/wikipedia\", \"20231101.en\", partitions=partitions, force_redownload=False)"
   ]
  },
  {
   "cell_type": "code",
   "execution_count": 7,
   "id": "43c4605d-0d42-4713-b524-d92b67bc024b",
   "metadata": {},
   "outputs": [
    {
     "name": "stdout",
     "output_type": "stream",
     "text": [
      "[INFO] downloading complete.\n"
     ]
    },
    {
     "data": {
      "text/plain": [
       "(    id                                      url      title  \\\n",
       " 0   12  https://en.wikipedia.org/wiki/Anarchism  Anarchism   \n",
       " 1   39     https://en.wikipedia.org/wiki/Albedo     Albedo   \n",
       " 2  290          https://en.wikipedia.org/wiki/A          A   \n",
       " 3  303    https://en.wikipedia.org/wiki/Alabama    Alabama   \n",
       " 4  305   https://en.wikipedia.org/wiki/Achilles   Achilles   \n",
       " \n",
       "                                                 text  \n",
       " 0  Anarchism is a political philosophy and moveme...  \n",
       " 1  Albedo (; ) is the fraction of sunlight that i...  \n",
       " 2  A, or a, is the first letter and the first vow...  \n",
       " 3  Alabama () is a state in the Southeastern regi...  \n",
       " 4  In Greek mythology, Achilles ( ) or Achilleus ...  ,\n",
       " 312578)"
      ]
     },
     "execution_count": 7,
     "metadata": {},
     "output_type": "execute_result"
    }
   ],
   "source": [
    "# load the downloaded partitions, which are automatically joined together\n",
    "ds = pygestor.load_dataset(\"wikimedia/wikipedia\", \"20231101.en\", download_if_missing=False)\n",
    "ds.head(5), len(ds)"
   ]
  },
  {
   "cell_type": "code",
   "execution_count": 8,
   "id": "7bf8a97f-85c2-4a09-a36b-86b50d733b8b",
   "metadata": {},
   "outputs": [
    {
     "name": "stdout",
     "output_type": "stream",
     "text": [
      "[INFO] downloading complete.\n"
     ]
    },
    {
     "data": {
      "text/plain": [
       "(    id                                      url      title  \\\n",
       " 0   12  https://en.wikipedia.org/wiki/Anarchism  Anarchism   \n",
       " 1   39     https://en.wikipedia.org/wiki/Albedo     Albedo   \n",
       " 2  290          https://en.wikipedia.org/wiki/A          A   \n",
       " 3  303    https://en.wikipedia.org/wiki/Alabama    Alabama   \n",
       " 4  305   https://en.wikipedia.org/wiki/Achilles   Achilles   \n",
       " \n",
       "                                                 text  \n",
       " 0  Anarchism is a political philosophy and moveme...  \n",
       " 1  Albedo (; ) is the fraction of sunlight that i...  \n",
       " 2  A, or a, is the first letter and the first vow...  \n",
       " 3  Alabama () is a state in the Southeastern regi...  \n",
       " 4  In Greek mythology, Achilles ( ) or Achilleus ...  ,\n",
       " 156289)"
      ]
     },
     "execution_count": 8,
     "metadata": {},
     "output_type": "execute_result"
    }
   ],
   "source": [
    "# Alternatively, partitions can be specified\n",
    "partitions = pygestor.list_partitions(\"wikimedia/wikipedia\", \"20231101.en\", display=False)[:1]\n",
    "ds = pygestor.load_dataset(\"wikimedia/wikipedia\", \"20231101.en\", partitions=partitions, download_if_missing=True)\n",
    "ds.head(5), len(ds)"
   ]
  },
  {
   "cell_type": "code",
   "execution_count": 9,
   "id": "a06484bf-b50a-40e3-b7df-cc151a71c922",
   "metadata": {},
   "outputs": [
    {
     "name": "stdout",
     "output_type": "stream",
     "text": [
      "[INFO] downloading complete.\n",
      "    id                                      url      title  \\\n",
      "0   12  https://en.wikipedia.org/wiki/Anarchism  Anarchism   \n",
      "1   39     https://en.wikipedia.org/wiki/Albedo     Albedo   \n",
      "2  290          https://en.wikipedia.org/wiki/A          A   \n",
      "3  303    https://en.wikipedia.org/wiki/Alabama    Alabama   \n",
      "4  305   https://en.wikipedia.org/wiki/Achilles   Achilles   \n",
      "\n",
      "                                                text  \n",
      "0  Anarchism is a political philosophy and moveme...  \n",
      "1  Albedo (; ) is the fraction of sunlight that i...  \n",
      "2  A, or a, is the first letter and the first vow...  \n",
      "3  Alabama () is a state in the Southeastern regi...  \n",
      "4  In Greek mythology, Achilles ( ) or Achilleus ...   16\n"
     ]
    }
   ],
   "source": [
    "# streaming load for large datasets to save memory\n",
    "batches = pygestor.stream_dataset(\"wikimedia/wikipedia\", \"20231101.en\", batch_size=16)\n",
    "\n",
    "for bn, batch in enumerate(batches):\n",
    "    print(batch.head(5), len(batch))\n",
    "    break"
   ]
  },
  {
   "cell_type": "code",
   "execution_count": 10,
   "id": "26b351ea-fb9f-4be6-a161-d4b93e60992f",
   "metadata": {
    "scrolled": true
   },
   "outputs": [
    {
     "name": "stdout",
     "output_type": "stream",
     "text": [
      "dataset name: wikimedia/wikipedia\n",
      "subset name: 20231101.en\n",
      "downloaded: 2/41\n",
      "          partition           |  downloaded   | size(MB) |path\n",
      "train-00000-of-00041.parquet  |       ✔       |420.296   |wikimedia/wikipedia\\20231101.en/train-00000-of-00041.parquet\n",
      "train-00001-of-00041.parquet  |       ✔       |351.448   |wikimedia/wikipedia\\20231101.en/train-00001-of-00041.parquet\n",
      "train-00002-of-00041.parquet  |       X       |329.025   |\n",
      "train-00003-of-00041.parquet  |       X       |330.779   |\n",
      "train-00004-of-00041.parquet  |       X       |306.945   |\n",
      "train-00005-of-00041.parquet  |       X       |243.974   |\n",
      "train-00006-of-00041.parquet  |       X       |266.289   |\n",
      "train-00007-of-00041.parquet  |       X       |228.196   |\n",
      "train-00008-of-00041.parquet  |       X       |247.687   |\n",
      "train-00009-of-00041.parquet  |       X       |227.378   |\n",
      "train-00010-of-00041.parquet  |       X       |233.605   |\n",
      "train-00011-of-00041.parquet  |       X       |231.749   |\n",
      "train-00012-of-00041.parquet  |       X       |239.223   |\n",
      "train-00013-of-00041.parquet  |       X       |241.147   |\n",
      "train-00014-of-00041.parquet  |       X       |222.798   |\n",
      "train-00015-of-00041.parquet  |       X       |234.579   |\n",
      "train-00016-of-00041.parquet  |       X       |503.154   |\n",
      "train-00017-of-00041.parquet  |       X       |230.814   |\n",
      "train-00018-of-00041.parquet  |       X       |231.055   |\n",
      "train-00019-of-00041.parquet  |       X       |195.277   |\n",
      "train-00020-of-00041.parquet  |       X       |225.142   |\n",
      "train-00021-of-00041.parquet  |       X       |216.446   |\n",
      "train-00022-of-00041.parquet  |       X       |201.995   |\n",
      "train-00023-of-00041.parquet  |       X       |212.615   |\n",
      "train-00024-of-00041.parquet  |       X       |220.730   |\n",
      "train-00025-of-00041.parquet  |       X       |221.293   |\n",
      "train-00026-of-00041.parquet  |       X       |208.188   |\n",
      "train-00027-of-00041.parquet  |       X       |213.981   |\n",
      "train-00028-of-00041.parquet  |       X       |188.376   |\n",
      "train-00029-of-00041.parquet  |       X       |217.776   |\n",
      "train-00030-of-00041.parquet  |       X       |203.945   |\n",
      "train-00031-of-00041.parquet  |       X       |215.471   |\n",
      "train-00032-of-00041.parquet  |       X       |214.243   |\n",
      "train-00033-of-00041.parquet  |       X       |202.706   |\n",
      "train-00034-of-00041.parquet  |       X       |219.011   |\n",
      "train-00035-of-00041.parquet  |       X       |224.460   |\n",
      "train-00036-of-00041.parquet  |       X       |610.277   |\n",
      "train-00037-of-00041.parquet  |       X       |674.144   |\n",
      "train-00038-of-00041.parquet  |       X       |538.232   |\n",
      "train-00039-of-00041.parquet  |       X       |464.852   |\n",
      "train-00040-of-00041.parquet  |       X       |421.630   |\n"
     ]
    }
   ],
   "source": [
    "# View partition info in a subset\n",
    "partitions = pygestor.list_partitions(\"wikimedia/wikipedia\", \"20231101.en\")"
   ]
  },
  {
   "cell_type": "code",
   "execution_count": 11,
   "id": "7cf812ec-0ab1-4cf9-b9ab-228ae8a4f0cd",
   "metadata": {},
   "outputs": [
    {
     "name": "stdout",
     "output_type": "stream",
     "text": [
      "[INFO] [1/1] downloading wikimedia/wikipedia\\20231101.ady/train-00000-of-00001.parquet\n"
     ]
    },
    {
     "data": {
      "application/vnd.jupyter.widget-view+json": {
       "model_id": "bb3b4e4c0eef4a9483d3b9c5a92e2121",
       "version_major": 2,
       "version_minor": 0
      },
      "text/plain": [
       "train-00000-of-00001.parquet:   0%|          | 0.00/347k [00:00<?, ?B/s]"
      ]
     },
     "metadata": {},
     "output_type": "display_data"
    },
    {
     "name": "stdout",
     "output_type": "stream",
     "text": [
      "[INFO] downloading complete.\n",
      "[WARNING] You are about to remove all downloaded data in 20231101.ady from wikimedia/wikipedia.\n",
      "[INFO] wikimedia/wikipedia\\20231101.ady deleted\n"
     ]
    }
   ],
   "source": [
    "# datasets can be updated to latest version by forcing redownload\n",
    "pygestor.download(\"wikimedia/wikipedia\", \"20231101.ady\", force_redownload=True)\n",
    "\n",
    "# remove a dataset or subset to free storage\n",
    "pygestor.remove(\"wikimedia/wikipedia\", \"20231101.ady\", force_remove=True)"
   ]
  },
  {
   "cell_type": "code",
   "execution_count": 12,
   "id": "4d0786d5-57ce-4462-9f24-e43074fffa6e",
   "metadata": {},
   "outputs": [
    {
     "name": "stdout",
     "output_type": "stream",
     "text": [
      "[INFO] [1/1] downloading wikimedia/wit_base\\data\\train-00000-of-00330.parquet\n"
     ]
    },
    {
     "data": {
      "application/vnd.jupyter.widget-view+json": {
       "model_id": "2b98866fd9fa462cb9fb3d9649e2df3e",
       "version_major": 2,
       "version_minor": 0
      },
      "text/plain": [
       "train-00000-of-00330.parquet:   0%|          | 0.00/933M [00:00<?, ?B/s]"
      ]
     },
     "metadata": {},
     "output_type": "display_data"
    },
    {
     "name": "stdout",
     "output_type": "stream",
     "text": [
      "[INFO] downloading complete.\n",
      "English: Moulay Ali Cherif Mausoleum in Rissani south east Morocco\n"
     ]
    },
    {
     "data": {
      "image/png": "[encoded data removed]",
      "text/plain": [
       "<PIL.JpegImagePlugin.JpegImageFile image mode=RGB size=300x200>"
      ]
     },
     "execution_count": 12,
     "metadata": {},
     "output_type": "execute_result"
    }
   ],
   "source": [
    "# images can also be promptly loaded with the process method, unique defined for each dataset\n",
    "batches = pygestor.stream_dataset(\"wikimedia/wit_base\", \"data\", [\"train-00000-of-00330.parquet\"], download_if_missing=True, batch_size=16)\n",
    "\n",
    "\n",
    "data = pygestor.process_samples(\"wikimedia/wit_base\", next(iter(batches)))\n",
    "print(data.caption_attribution_description[1])\n",
    "data.image[1]"
   ]
  }
 ],
 "metadata": {
  "kernelspec": {
   "display_name": "Python 3 (ipykernel)",
   "language": "python",
   "name": "python3"
  },
  "language_info": {
   "codemirror_mode": {
    "name": "ipython",
    "version": 3
   },
   "file_extension": ".py",
   "mimetype": "text/x-python",
   "name": "python",
   "nbconvert_exporter": "python",
   "pygments_lexer": "ipython3",
   "version": "3.11.5"
  }
 },
 "nbformat": 4,
 "nbformat_minor": 5
}
